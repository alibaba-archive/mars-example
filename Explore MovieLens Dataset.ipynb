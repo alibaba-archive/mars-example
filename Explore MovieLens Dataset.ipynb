{
 "cells": [
  {
   "cell_type": "markdown",
   "metadata": {},
   "source": [
    "# Explore MovieLens Dataset\n",
    "\n",
    "This example leverages Mars to explore on MovieLens dataset."
   ]
  },
  {
   "cell_type": "markdown",
   "metadata": {},
   "source": [
    "## Data preparation\n",
    "\n",
    "Download [MovieLens 25M Dataset](https://grouplens.org/datasets/movielens/25m/) first."
   ]
  },
  {
   "cell_type": "code",
   "execution_count": null,
   "metadata": {},
   "outputs": [],
   "source": [
    "import os\n",
    "\n",
    "if not os.path.exists('datasets/ml-25m.zip'):\n",
    "    # retrieve dataset\n",
    "    !wget -O datasets/ml-25m.zip http://files.grouplens.org/datasets/movielens/ml-25m.zip\n",
    "    !unzip datasets/ml-25m.zip -d datasets"
   ]
  },
  {
   "cell_type": "markdown",
   "metadata": {},
   "source": [
    "## Install libraries\n",
    "\n",
    "Besides Mars, install libraries that are necessary for this example."
   ]
  },
  {
   "cell_type": "code",
   "execution_count": null,
   "metadata": {},
   "outputs": [],
   "source": [
    "!pip install pymars>=0.6.0\n",
    "!pip install wordcloud pandas_bokeh"
   ]
  },
  {
   "cell_type": "markdown",
   "metadata": {},
   "source": [
    "## Begin the tour of exploration with Mars\n",
    "\n",
    "First, import all modules that we need."
   ]
  },
  {
   "cell_type": "code",
   "execution_count": null,
   "metadata": {},
   "outputs": [],
   "source": [
    "import warnings\n",
    "\n",
    "import mars.dataframe as md\n",
    "import numpy as np\n",
    "import pandas as pd\n",
    "import pandas_bokeh\n",
    "import matplotlib.pyplot as plt\n",
    "from wordcloud import WordCloud, STOPWORDS\n",
    "\n",
    "pandas_bokeh.output_notebook()\n",
    "warnings.filterwarnings('ignore')\n",
    "MAX_WORDS = 50"
   ]
  },
  {
   "cell_type": "markdown",
   "metadata": {},
   "source": [
    "### Read CSV Data into Mars DataFrame"
   ]
  },
  {
   "cell_type": "code",
   "execution_count": null,
   "metadata": {},
   "outputs": [],
   "source": [
    "movies = md.read_csv('datasets/ml-25m/movies.csv')\n",
    "ratings = md.read_csv('datasets/ml-25m/ratings.csv')\n",
    "tags = md.read_csv('datasets/ml-25m/tags.csv')"
   ]
  },
  {
   "cell_type": "code",
   "execution_count": null,
   "metadata": {},
   "outputs": [],
   "source": [
    "movies.head().execute()"
   ]
  },
  {
   "cell_type": "code",
   "execution_count": null,
   "metadata": {},
   "outputs": [],
   "source": [
    "ratings.head().execute()"
   ]
  },
  {
   "cell_type": "code",
   "execution_count": null,
   "metadata": {},
   "outputs": [],
   "source": [
    "tags.head().execute()"
   ]
  },
  {
   "cell_type": "markdown",
   "source": [
    "### Analyze according to release date"
   ],
   "metadata": {
    "collapsed": false
   }
  },
  {
   "cell_type": "markdown",
   "source": [
    "Extract release year from title."
   ],
   "metadata": {
    "collapsed": false
   }
  },
  {
   "cell_type": "code",
   "execution_count": null,
   "outputs": [],
   "source": [
    "def extract_year(title):\n",
    "    try:\n",
    "        year = title.strip()[-5: -1]\n",
    "        if len(year) != 4:\n",
    "            return 0\n",
    "        year = int(year)\n",
    "        if year < 1900:\n",
    "            return 0\n",
    "        return year\n",
    "    except:\n",
    "        return 0\n",
    "\n",
    "movies_with_date = movies.copy()\n",
    "movies_with_date['release_year'] = movies.title.map(extract_year, dtype=int)\n",
    "movies_with_date = movies_with_date[movies_with_date['release_year'] > 0]\n",
    "movies_with_date.execute()"
   ],
   "metadata": {
    "collapsed": false,
    "pycharm": {
     "name": "#%%\n"
    }
   }
  },
  {
   "cell_type": "markdown",
   "source": [
    "Plot data using `pandas_bokeh` backend to show an interactive chart."
   ],
   "metadata": {
    "collapsed": false
   }
  },
  {
   "cell_type": "code",
   "execution_count": null,
   "outputs": [],
   "source": [
    "year_movies = movies_with_date.groupby('release_year').size()\n",
    "year_movies.plot(backend='pandas_bokeh')"
   ],
   "metadata": {
    "collapsed": false,
    "pycharm": {
     "name": "#%%\n"
    }
   }
  },
  {
   "cell_type": "markdown",
   "source": [
    "### Top 100 rating movies"
   ],
   "metadata": {
    "collapsed": false
   }
  },
  {
   "cell_type": "code",
   "execution_count": null,
   "outputs": [],
   "source": [
    "movie_ratings = ratings.groupby('movieId', as_index=False).agg({'rating': ['count', 'mean']})\n",
    "movie_ratings.columns = ['movieId', 'count', 'avg_rating']\n",
    "movie_ratings.execute()"
   ],
   "metadata": {
    "collapsed": false,
    "pycharm": {
     "name": "#%%\n"
    }
   }
  },
  {
   "cell_type": "markdown",
   "source": [
    "Filter movies that has too few ratings."
   ],
   "metadata": {
    "collapsed": false
   }
  },
  {
   "cell_type": "code",
   "execution_count": null,
   "outputs": [],
   "source": [
    "movie_ratings = movie_ratings[movie_ratings['count'] > 50]\n",
    "has_rating_movies = movie_ratings.merge(movies)\n",
    "has_rating_movies = has_rating_movies.sort_values('avg_rating', ascending=False)\n",
    "has_rating_movies.head(100).execute()"
   ],
   "metadata": {
    "collapsed": false,
    "pycharm": {
     "name": "#%%\n"
    }
   }
  },
  {
   "cell_type": "markdown",
   "source": [
    "## Word clouds based on tags data"
   ],
   "metadata": {
    "collapsed": false
   }
  },
  {
   "cell_type": "code",
   "execution_count": null,
   "outputs": [],
   "source": [
    "def extract_words(tag):\n",
    "    if not isinstance(tag, str) and np.isnan(tag):\n",
    "        return []\n",
    "    words = tag.split()\n",
    "    return [w for w in words if w not in STOPWORDS]\n",
    "\n",
    "words = tags.tag.apply(extract_words).explode()\n",
    "top_words = words.value_counts()[:MAX_WORDS].reset_index()\n",
    "selected_words = words[words.isin(top_words.iloc[:, 0])]\n",
    "selected_words.execute()"
   ],
   "metadata": {
    "collapsed": false,
    "pycharm": {
     "name": "#%%\n"
    }
   }
  },
  {
   "cell_type": "code",
   "execution_count": null,
   "outputs": [],
   "source": [
    "words_str = ' '.join([t for t in selected_words.to_pandas()])\n",
    "wordcloud = WordCloud(\n",
    "    collocations=False, max_words=MAX_WORDS).generate(words_str)\n",
    "\n",
    "fig = plt.figure()\n",
    "plt.imshow(wordcloud, interpolation='bilinear')\n",
    "plt.axis('off')\n",
    "plt.tight_layout(pad=0)\n",
    "plt.show()"
   ],
   "metadata": {
    "collapsed": false,
    "pycharm": {
     "name": "#%%\n"
    }
   }
  },
  {
   "cell_type": "markdown",
   "metadata": {},
   "source": []
  },
  {
   "cell_type": "markdown",
   "metadata": {},
   "source": [
    "Extract release year from title."
   ]
  },
  {
   "cell_type": "code",
   "execution_count": null,
   "metadata": {},
   "outputs": [],
   "source": [
    "def extract_year(title):\n",
    "    try:\n",
    "        year = title.strip()[-5: -1]\n",
    "        if len(year) != 4:\n",
    "            return 0\n",
    "        year = int(year)\n",
    "        if year < 1900:\n",
    "            return 0\n",
    "        return year\n",
    "    except:\n",
    "        return 0\n",
    "\n",
    "movies_with_date = movies.copy()\n",
    "movies_with_date['release_year'] = movies.title.map(extract_year, dtype=int)\n",
    "movies_with_date = movies_with_date[movies_with_date['release_year'] > 0]\n",
    "movies_with_date.execute()"
   ]
  },
  {
   "cell_type": "markdown",
   "metadata": {},
   "source": [
    "Plot data using `pandas_bokeh` backend to show an interactive chart."
   ]
  },
  {
   "cell_type": "code",
   "execution_count": null,
   "metadata": {},
   "outputs": [],
   "source": [
    "year_movies = movies_with_date.groupby('release_year').size()\n",
    "year_movies.plot(backend='pandas_bokeh')"
   ]
  },
  {
   "cell_type": "markdown",
   "metadata": {},
   "source": [
    "### Top 100 rating movies"
   ]
  },
  {
   "cell_type": "code",
   "execution_count": null,
   "metadata": {},
   "outputs": [],
   "source": [
    "movie_ratings = ratings.groupby('movieId', as_index=False).agg({'rating': ['count', 'mean']})\n",
    "movie_ratings.columns = ['movieId', 'count', 'avg_rating']\n",
    "movie_ratings.execute()"
   ]
  },
  {
   "cell_type": "markdown",
   "metadata": {},
   "source": [
    "Filter movies that has too few ratings."
   ]
  },
  {
   "cell_type": "code",
   "execution_count": null,
   "metadata": {},
   "outputs": [],
   "source": [
    "movie_ratings = movie_ratings[movie_ratings['count'] > 50]\n",
    "has_rating_movies = movie_ratings.merge(movies)\n",
    "has_rating_movies = has_rating_movies.sort_values('avg_rating', ascending=False)\n",
    "has_rating_movies.head(100).execute()"
   ]
  },
  {
   "cell_type": "markdown",
   "metadata": {},
   "source": [
    "## Word clouds based on tags data"
   ]
  },
  {
   "cell_type": "code",
   "execution_count": null,
   "metadata": {},
   "outputs": [],
   "source": [
    "def extract_words(tag):\n",
    "    if not isinstance(tag, str) and np.isnan(tag):\n",
    "        return []\n",
    "    words = tag.split()\n",
    "    return [w for w in words if w not in STOPWORDS]\n",
    "\n",
    "words = tags.tag.apply(extract_words).explode()\n",
    "top_words = words.value_counts()[:MAX_WORDS].reset_index()\n",
    "selected_words = words[words.isin(top_words.iloc[:, 0])]\n",
    "selected_words.execute()"
   ]
  },
  {
   "cell_type": "code",
   "execution_count": null,
   "metadata": {},
   "outputs": [],
   "source": [
    "words_str = ' '.join([t for t in selected_words.to_pandas()])\n",
    "wordcloud = WordCloud(\n",
    "    collocations=False, max_words=MAX_WORDS).generate(words_str)\n",
    "\n",
    "fig = plt.figure()\n",
    "plt.imshow(wordcloud, interpolation='bilinear')\n",
    "plt.axis('off')\n",
    "plt.tight_layout(pad=0)\n",
    "plt.show()"
   ]
  },
  {
   "cell_type": "code",
   "execution_count": null,
   "metadata": {},
   "outputs": [],
   "source": []
  }
 ],
 "metadata": {
  "kernelspec": {
   "display_name": "Python 3",
   "language": "python",
   "name": "python3"
  },
  "language_info": {
   "codemirror_mode": {
    "name": "ipython",
    "version": 3
   },
   "file_extension": ".py",
   "mimetype": "text/x-python",
   "name": "python",
   "nbconvert_exporter": "python",
   "pygments_lexer": "ipython3",
   "version": "3.7.9"
  }
 },
 "nbformat": 4,
 "nbformat_minor": 2
}